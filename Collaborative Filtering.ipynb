{
 "cells": [
  {
   "cell_type": "code",
   "execution_count": 8,
   "metadata": {
    "ExecuteTime": {
     "end_time": "2023-12-22T10:18:50.098682700Z",
     "start_time": "2023-12-22T10:18:50.086682300Z"
    }
   },
   "outputs": [],
   "source": [
    "from sklearn.mixture import GaussianMixture\n",
    "from tqdm import tqdm\n",
    "import pandas as pd\n",
    "import numpy as np\n",
    "import os"
   ]
  },
  {
   "cell_type": "code",
   "execution_count": 9,
   "outputs": [],
   "source": [
    "# PATH = 'ml-100k'\n",
    "# dataset = 'user.data'"
   ],
   "metadata": {
    "collapsed": false,
    "ExecuteTime": {
     "end_time": "2023-12-22T10:18:50.457026500Z",
     "start_time": "2023-12-22T10:18:50.441713700Z"
    }
   }
  },
  {
   "cell_type": "code",
   "execution_count": 13,
   "metadata": {
    "ExecuteTime": {
     "end_time": "2023-12-22T10:20:16.542490200Z",
     "start_time": "2023-12-22T10:20:16.492502800Z"
    }
   },
   "outputs": [],
   "source": [
    "dataframe = pd.read_csv(\"user.data\", sep='\\t', header=None)"
   ]
  },
  {
   "cell_type": "code",
   "execution_count": 14,
   "metadata": {
    "ExecuteTime": {
     "end_time": "2023-12-22T10:20:17.822059100Z",
     "start_time": "2023-12-22T10:20:17.814057400Z"
    }
   },
   "outputs": [],
   "source": [
    "dataframe.rename(columns={0: 'users', 1: 'items', 2: 'ratings', 3: 'date'}, inplace=True)"
   ]
  },
  {
   "cell_type": "code",
   "execution_count": 15,
   "metadata": {
    "pycharm": {
     "is_executing": true
    },
    "ExecuteTime": {
     "end_time": "2023-12-22T10:20:18.107563Z",
     "start_time": "2023-12-22T10:20:18.078469100Z"
    }
   },
   "outputs": [
    {
     "data": {
      "text/plain": "       users  items  ratings       date\n0        196    242        3  881250949\n1        186    302        3  891717742\n2         22    377        1  878887116\n3        244     51        2  880606923\n4        166    346        1  886397596\n...      ...    ...      ...        ...\n99995    880    476        3  880175444\n99996    716    204        5  879795543\n99997    276   1090        1  874795795\n99998     13    225        2  882399156\n99999     12    203        3  879959583\n\n[100000 rows x 4 columns]",
      "text/html": "<div>\n<style scoped>\n    .dataframe tbody tr th:only-of-type {\n        vertical-align: middle;\n    }\n\n    .dataframe tbody tr th {\n        vertical-align: top;\n    }\n\n    .dataframe thead th {\n        text-align: right;\n    }\n</style>\n<table border=\"1\" class=\"dataframe\">\n  <thead>\n    <tr style=\"text-align: right;\">\n      <th></th>\n      <th>users</th>\n      <th>items</th>\n      <th>ratings</th>\n      <th>date</th>\n    </tr>\n  </thead>\n  <tbody>\n    <tr>\n      <th>0</th>\n      <td>196</td>\n      <td>242</td>\n      <td>3</td>\n      <td>881250949</td>\n    </tr>\n    <tr>\n      <th>1</th>\n      <td>186</td>\n      <td>302</td>\n      <td>3</td>\n      <td>891717742</td>\n    </tr>\n    <tr>\n      <th>2</th>\n      <td>22</td>\n      <td>377</td>\n      <td>1</td>\n      <td>878887116</td>\n    </tr>\n    <tr>\n      <th>3</th>\n      <td>244</td>\n      <td>51</td>\n      <td>2</td>\n      <td>880606923</td>\n    </tr>\n    <tr>\n      <th>4</th>\n      <td>166</td>\n      <td>346</td>\n      <td>1</td>\n      <td>886397596</td>\n    </tr>\n    <tr>\n      <th>...</th>\n      <td>...</td>\n      <td>...</td>\n      <td>...</td>\n      <td>...</td>\n    </tr>\n    <tr>\n      <th>99995</th>\n      <td>880</td>\n      <td>476</td>\n      <td>3</td>\n      <td>880175444</td>\n    </tr>\n    <tr>\n      <th>99996</th>\n      <td>716</td>\n      <td>204</td>\n      <td>5</td>\n      <td>879795543</td>\n    </tr>\n    <tr>\n      <th>99997</th>\n      <td>276</td>\n      <td>1090</td>\n      <td>1</td>\n      <td>874795795</td>\n    </tr>\n    <tr>\n      <th>99998</th>\n      <td>13</td>\n      <td>225</td>\n      <td>2</td>\n      <td>882399156</td>\n    </tr>\n    <tr>\n      <th>99999</th>\n      <td>12</td>\n      <td>203</td>\n      <td>3</td>\n      <td>879959583</td>\n    </tr>\n  </tbody>\n</table>\n<p>100000 rows × 4 columns</p>\n</div>"
     },
     "execution_count": 15,
     "metadata": {},
     "output_type": "execute_result"
    }
   ],
   "source": [
    "dataframe"
   ]
  },
  {
   "cell_type": "markdown",
   "source": [],
   "metadata": {
    "collapsed": false
   }
  },
  {
   "cell_type": "markdown",
   "source": [],
   "metadata": {
    "collapsed": false
   }
  },
  {
   "cell_type": "code",
   "execution_count": 16,
   "metadata": {
    "ExecuteTime": {
     "end_time": "2023-12-22T10:20:18.838519800Z",
     "start_time": "2023-12-22T10:20:18.807916900Z"
    }
   },
   "outputs": [],
   "source": [
    "dataframe['date'] = pd.to_datetime(dataframe['date'], unit='s')"
   ]
  },
  {
   "cell_type": "code",
   "execution_count": 17,
   "metadata": {
    "pycharm": {
     "is_executing": true
    },
    "ExecuteTime": {
     "end_time": "2023-12-22T10:20:19.325258700Z",
     "start_time": "2023-12-22T10:20:19.302402900Z"
    }
   },
   "outputs": [
    {
     "data": {
      "text/plain": "       users  items  ratings                date\n0        196    242        3 1997-12-04 15:55:49\n1        186    302        3 1998-04-04 19:22:22\n2         22    377        1 1997-11-07 07:18:36\n3        244     51        2 1997-11-27 05:02:03\n4        166    346        1 1998-02-02 05:33:16\n...      ...    ...      ...                 ...\n99995    880    476        3 1997-11-22 05:10:44\n99996    716    204        5 1997-11-17 19:39:03\n99997    276   1090        1 1997-09-20 22:49:55\n99998     13    225        2 1997-12-17 22:52:36\n99999     12    203        3 1997-11-19 17:13:03\n\n[100000 rows x 4 columns]",
      "text/html": "<div>\n<style scoped>\n    .dataframe tbody tr th:only-of-type {\n        vertical-align: middle;\n    }\n\n    .dataframe tbody tr th {\n        vertical-align: top;\n    }\n\n    .dataframe thead th {\n        text-align: right;\n    }\n</style>\n<table border=\"1\" class=\"dataframe\">\n  <thead>\n    <tr style=\"text-align: right;\">\n      <th></th>\n      <th>users</th>\n      <th>items</th>\n      <th>ratings</th>\n      <th>date</th>\n    </tr>\n  </thead>\n  <tbody>\n    <tr>\n      <th>0</th>\n      <td>196</td>\n      <td>242</td>\n      <td>3</td>\n      <td>1997-12-04 15:55:49</td>\n    </tr>\n    <tr>\n      <th>1</th>\n      <td>186</td>\n      <td>302</td>\n      <td>3</td>\n      <td>1998-04-04 19:22:22</td>\n    </tr>\n    <tr>\n      <th>2</th>\n      <td>22</td>\n      <td>377</td>\n      <td>1</td>\n      <td>1997-11-07 07:18:36</td>\n    </tr>\n    <tr>\n      <th>3</th>\n      <td>244</td>\n      <td>51</td>\n      <td>2</td>\n      <td>1997-11-27 05:02:03</td>\n    </tr>\n    <tr>\n      <th>4</th>\n      <td>166</td>\n      <td>346</td>\n      <td>1</td>\n      <td>1998-02-02 05:33:16</td>\n    </tr>\n    <tr>\n      <th>...</th>\n      <td>...</td>\n      <td>...</td>\n      <td>...</td>\n      <td>...</td>\n    </tr>\n    <tr>\n      <th>99995</th>\n      <td>880</td>\n      <td>476</td>\n      <td>3</td>\n      <td>1997-11-22 05:10:44</td>\n    </tr>\n    <tr>\n      <th>99996</th>\n      <td>716</td>\n      <td>204</td>\n      <td>5</td>\n      <td>1997-11-17 19:39:03</td>\n    </tr>\n    <tr>\n      <th>99997</th>\n      <td>276</td>\n      <td>1090</td>\n      <td>1</td>\n      <td>1997-09-20 22:49:55</td>\n    </tr>\n    <tr>\n      <th>99998</th>\n      <td>13</td>\n      <td>225</td>\n      <td>2</td>\n      <td>1997-12-17 22:52:36</td>\n    </tr>\n    <tr>\n      <th>99999</th>\n      <td>12</td>\n      <td>203</td>\n      <td>3</td>\n      <td>1997-11-19 17:13:03</td>\n    </tr>\n  </tbody>\n</table>\n<p>100000 rows × 4 columns</p>\n</div>"
     },
     "execution_count": 17,
     "metadata": {},
     "output_type": "execute_result"
    }
   ],
   "source": [
    "dataframe"
   ]
  },
  {
   "cell_type": "code",
   "execution_count": 18,
   "metadata": {
    "ExecuteTime": {
     "end_time": "2023-12-22T10:20:19.435197900Z",
     "start_time": "2023-12-22T10:20:19.338460800Z"
    }
   },
   "outputs": [],
   "source": [
    "users_items_matrix = dataframe.pivot(index='users', columns='items', values='ratings').replace(np.nan, 0).values"
   ]
  },
  {
   "cell_type": "code",
   "execution_count": 19,
   "metadata": {
    "ExecuteTime": {
     "end_time": "2023-12-22T10:20:19.487722Z",
     "start_time": "2023-12-22T10:20:19.433198Z"
    }
   },
   "outputs": [],
   "source": [
    "users_items_matrix = pd.DataFrame(users_items_matrix)"
   ]
  },
  {
   "cell_type": "code",
   "execution_count": 20,
   "metadata": {
    "ExecuteTime": {
     "end_time": "2023-12-22T10:20:19.584524200Z",
     "start_time": "2023-12-22T10:20:19.450197700Z"
    }
   },
   "outputs": [
    {
     "data": {
      "text/plain": "     0     1     2     3     4     5     6     7     8     9     ...  1672  \\\n0     5.0   3.0   4.0   3.0   3.0   5.0   4.0   1.0   5.0   3.0  ...   0.0   \n1     4.0   0.0   0.0   0.0   0.0   0.0   0.0   0.0   0.0   2.0  ...   0.0   \n2     0.0   0.0   0.0   0.0   0.0   0.0   0.0   0.0   0.0   0.0  ...   0.0   \n3     0.0   0.0   0.0   0.0   0.0   0.0   0.0   0.0   0.0   0.0  ...   0.0   \n4     4.0   3.0   0.0   0.0   0.0   0.0   0.0   0.0   0.0   0.0  ...   0.0   \n..    ...   ...   ...   ...   ...   ...   ...   ...   ...   ...  ...   ...   \n938   0.0   0.0   0.0   0.0   0.0   0.0   0.0   0.0   5.0   0.0  ...   0.0   \n939   0.0   0.0   0.0   2.0   0.0   0.0   4.0   5.0   3.0   0.0  ...   0.0   \n940   5.0   0.0   0.0   0.0   0.0   0.0   4.0   0.0   0.0   0.0  ...   0.0   \n941   0.0   0.0   0.0   0.0   0.0   0.0   0.0   0.0   0.0   0.0  ...   0.0   \n942   0.0   5.0   0.0   0.0   0.0   0.0   0.0   0.0   3.0   0.0  ...   0.0   \n\n     1673  1674  1675  1676  1677  1678  1679  1680  1681  \n0     0.0   0.0   0.0   0.0   0.0   0.0   0.0   0.0   0.0  \n1     0.0   0.0   0.0   0.0   0.0   0.0   0.0   0.0   0.0  \n2     0.0   0.0   0.0   0.0   0.0   0.0   0.0   0.0   0.0  \n3     0.0   0.0   0.0   0.0   0.0   0.0   0.0   0.0   0.0  \n4     0.0   0.0   0.0   0.0   0.0   0.0   0.0   0.0   0.0  \n..    ...   ...   ...   ...   ...   ...   ...   ...   ...  \n938   0.0   0.0   0.0   0.0   0.0   0.0   0.0   0.0   0.0  \n939   0.0   0.0   0.0   0.0   0.0   0.0   0.0   0.0   0.0  \n940   0.0   0.0   0.0   0.0   0.0   0.0   0.0   0.0   0.0  \n941   0.0   0.0   0.0   0.0   0.0   0.0   0.0   0.0   0.0  \n942   0.0   0.0   0.0   0.0   0.0   0.0   0.0   0.0   0.0  \n\n[943 rows x 1682 columns]",
      "text/html": "<div>\n<style scoped>\n    .dataframe tbody tr th:only-of-type {\n        vertical-align: middle;\n    }\n\n    .dataframe tbody tr th {\n        vertical-align: top;\n    }\n\n    .dataframe thead th {\n        text-align: right;\n    }\n</style>\n<table border=\"1\" class=\"dataframe\">\n  <thead>\n    <tr style=\"text-align: right;\">\n      <th></th>\n      <th>0</th>\n      <th>1</th>\n      <th>2</th>\n      <th>3</th>\n      <th>4</th>\n      <th>5</th>\n      <th>6</th>\n      <th>7</th>\n      <th>8</th>\n      <th>9</th>\n      <th>...</th>\n      <th>1672</th>\n      <th>1673</th>\n      <th>1674</th>\n      <th>1675</th>\n      <th>1676</th>\n      <th>1677</th>\n      <th>1678</th>\n      <th>1679</th>\n      <th>1680</th>\n      <th>1681</th>\n    </tr>\n  </thead>\n  <tbody>\n    <tr>\n      <th>0</th>\n      <td>5.0</td>\n      <td>3.0</td>\n      <td>4.0</td>\n      <td>3.0</td>\n      <td>3.0</td>\n      <td>5.0</td>\n      <td>4.0</td>\n      <td>1.0</td>\n      <td>5.0</td>\n      <td>3.0</td>\n      <td>...</td>\n      <td>0.0</td>\n      <td>0.0</td>\n      <td>0.0</td>\n      <td>0.0</td>\n      <td>0.0</td>\n      <td>0.0</td>\n      <td>0.0</td>\n      <td>0.0</td>\n      <td>0.0</td>\n      <td>0.0</td>\n    </tr>\n    <tr>\n      <th>1</th>\n      <td>4.0</td>\n      <td>0.0</td>\n      <td>0.0</td>\n      <td>0.0</td>\n      <td>0.0</td>\n      <td>0.0</td>\n      <td>0.0</td>\n      <td>0.0</td>\n      <td>0.0</td>\n      <td>2.0</td>\n      <td>...</td>\n      <td>0.0</td>\n      <td>0.0</td>\n      <td>0.0</td>\n      <td>0.0</td>\n      <td>0.0</td>\n      <td>0.0</td>\n      <td>0.0</td>\n      <td>0.0</td>\n      <td>0.0</td>\n      <td>0.0</td>\n    </tr>\n    <tr>\n      <th>2</th>\n      <td>0.0</td>\n      <td>0.0</td>\n      <td>0.0</td>\n      <td>0.0</td>\n      <td>0.0</td>\n      <td>0.0</td>\n      <td>0.0</td>\n      <td>0.0</td>\n      <td>0.0</td>\n      <td>0.0</td>\n      <td>...</td>\n      <td>0.0</td>\n      <td>0.0</td>\n      <td>0.0</td>\n      <td>0.0</td>\n      <td>0.0</td>\n      <td>0.0</td>\n      <td>0.0</td>\n      <td>0.0</td>\n      <td>0.0</td>\n      <td>0.0</td>\n    </tr>\n    <tr>\n      <th>3</th>\n      <td>0.0</td>\n      <td>0.0</td>\n      <td>0.0</td>\n      <td>0.0</td>\n      <td>0.0</td>\n      <td>0.0</td>\n      <td>0.0</td>\n      <td>0.0</td>\n      <td>0.0</td>\n      <td>0.0</td>\n      <td>...</td>\n      <td>0.0</td>\n      <td>0.0</td>\n      <td>0.0</td>\n      <td>0.0</td>\n      <td>0.0</td>\n      <td>0.0</td>\n      <td>0.0</td>\n      <td>0.0</td>\n      <td>0.0</td>\n      <td>0.0</td>\n    </tr>\n    <tr>\n      <th>4</th>\n      <td>4.0</td>\n      <td>3.0</td>\n      <td>0.0</td>\n      <td>0.0</td>\n      <td>0.0</td>\n      <td>0.0</td>\n      <td>0.0</td>\n      <td>0.0</td>\n      <td>0.0</td>\n      <td>0.0</td>\n      <td>...</td>\n      <td>0.0</td>\n      <td>0.0</td>\n      <td>0.0</td>\n      <td>0.0</td>\n      <td>0.0</td>\n      <td>0.0</td>\n      <td>0.0</td>\n      <td>0.0</td>\n      <td>0.0</td>\n      <td>0.0</td>\n    </tr>\n    <tr>\n      <th>...</th>\n      <td>...</td>\n      <td>...</td>\n      <td>...</td>\n      <td>...</td>\n      <td>...</td>\n      <td>...</td>\n      <td>...</td>\n      <td>...</td>\n      <td>...</td>\n      <td>...</td>\n      <td>...</td>\n      <td>...</td>\n      <td>...</td>\n      <td>...</td>\n      <td>...</td>\n      <td>...</td>\n      <td>...</td>\n      <td>...</td>\n      <td>...</td>\n      <td>...</td>\n      <td>...</td>\n    </tr>\n    <tr>\n      <th>938</th>\n      <td>0.0</td>\n      <td>0.0</td>\n      <td>0.0</td>\n      <td>0.0</td>\n      <td>0.0</td>\n      <td>0.0</td>\n      <td>0.0</td>\n      <td>0.0</td>\n      <td>5.0</td>\n      <td>0.0</td>\n      <td>...</td>\n      <td>0.0</td>\n      <td>0.0</td>\n      <td>0.0</td>\n      <td>0.0</td>\n      <td>0.0</td>\n      <td>0.0</td>\n      <td>0.0</td>\n      <td>0.0</td>\n      <td>0.0</td>\n      <td>0.0</td>\n    </tr>\n    <tr>\n      <th>939</th>\n      <td>0.0</td>\n      <td>0.0</td>\n      <td>0.0</td>\n      <td>2.0</td>\n      <td>0.0</td>\n      <td>0.0</td>\n      <td>4.0</td>\n      <td>5.0</td>\n      <td>3.0</td>\n      <td>0.0</td>\n      <td>...</td>\n      <td>0.0</td>\n      <td>0.0</td>\n      <td>0.0</td>\n      <td>0.0</td>\n      <td>0.0</td>\n      <td>0.0</td>\n      <td>0.0</td>\n      <td>0.0</td>\n      <td>0.0</td>\n      <td>0.0</td>\n    </tr>\n    <tr>\n      <th>940</th>\n      <td>5.0</td>\n      <td>0.0</td>\n      <td>0.0</td>\n      <td>0.0</td>\n      <td>0.0</td>\n      <td>0.0</td>\n      <td>4.0</td>\n      <td>0.0</td>\n      <td>0.0</td>\n      <td>0.0</td>\n      <td>...</td>\n      <td>0.0</td>\n      <td>0.0</td>\n      <td>0.0</td>\n      <td>0.0</td>\n      <td>0.0</td>\n      <td>0.0</td>\n      <td>0.0</td>\n      <td>0.0</td>\n      <td>0.0</td>\n      <td>0.0</td>\n    </tr>\n    <tr>\n      <th>941</th>\n      <td>0.0</td>\n      <td>0.0</td>\n      <td>0.0</td>\n      <td>0.0</td>\n      <td>0.0</td>\n      <td>0.0</td>\n      <td>0.0</td>\n      <td>0.0</td>\n      <td>0.0</td>\n      <td>0.0</td>\n      <td>...</td>\n      <td>0.0</td>\n      <td>0.0</td>\n      <td>0.0</td>\n      <td>0.0</td>\n      <td>0.0</td>\n      <td>0.0</td>\n      <td>0.0</td>\n      <td>0.0</td>\n      <td>0.0</td>\n      <td>0.0</td>\n    </tr>\n    <tr>\n      <th>942</th>\n      <td>0.0</td>\n      <td>5.0</td>\n      <td>0.0</td>\n      <td>0.0</td>\n      <td>0.0</td>\n      <td>0.0</td>\n      <td>0.0</td>\n      <td>0.0</td>\n      <td>3.0</td>\n      <td>0.0</td>\n      <td>...</td>\n      <td>0.0</td>\n      <td>0.0</td>\n      <td>0.0</td>\n      <td>0.0</td>\n      <td>0.0</td>\n      <td>0.0</td>\n      <td>0.0</td>\n      <td>0.0</td>\n      <td>0.0</td>\n      <td>0.0</td>\n    </tr>\n  </tbody>\n</table>\n<p>943 rows × 1682 columns</p>\n</div>"
     },
     "execution_count": 20,
     "metadata": {},
     "output_type": "execute_result"
    }
   ],
   "source": [
    "users_items_matrix"
   ]
  },
  {
   "cell_type": "code",
   "execution_count": 21,
   "metadata": {
    "ExecuteTime": {
     "end_time": "2023-12-22T10:20:19.605577400Z",
     "start_time": "2023-12-22T10:20:19.482722700Z"
    }
   },
   "outputs": [],
   "source": [
    "GMM = GaussianMixture(n_components=4)"
   ]
  },
  {
   "cell_type": "code",
   "execution_count": 22,
   "metadata": {
    "ExecuteTime": {
     "end_time": "2023-12-22T10:20:22.793870600Z",
     "start_time": "2023-12-22T10:20:19.510966200Z"
    }
   },
   "outputs": [
    {
     "data": {
      "text/plain": "GaussianMixture(n_components=4)",
      "text/html": "<style>#sk-container-id-1 {color: black;}#sk-container-id-1 pre{padding: 0;}#sk-container-id-1 div.sk-toggleable {background-color: white;}#sk-container-id-1 label.sk-toggleable__label {cursor: pointer;display: block;width: 100%;margin-bottom: 0;padding: 0.3em;box-sizing: border-box;text-align: center;}#sk-container-id-1 label.sk-toggleable__label-arrow:before {content: \"▸\";float: left;margin-right: 0.25em;color: #696969;}#sk-container-id-1 label.sk-toggleable__label-arrow:hover:before {color: black;}#sk-container-id-1 div.sk-estimator:hover label.sk-toggleable__label-arrow:before {color: black;}#sk-container-id-1 div.sk-toggleable__content {max-height: 0;max-width: 0;overflow: hidden;text-align: left;background-color: #f0f8ff;}#sk-container-id-1 div.sk-toggleable__content pre {margin: 0.2em;color: black;border-radius: 0.25em;background-color: #f0f8ff;}#sk-container-id-1 input.sk-toggleable__control:checked~div.sk-toggleable__content {max-height: 200px;max-width: 100%;overflow: auto;}#sk-container-id-1 input.sk-toggleable__control:checked~label.sk-toggleable__label-arrow:before {content: \"▾\";}#sk-container-id-1 div.sk-estimator input.sk-toggleable__control:checked~label.sk-toggleable__label {background-color: #d4ebff;}#sk-container-id-1 div.sk-label input.sk-toggleable__control:checked~label.sk-toggleable__label {background-color: #d4ebff;}#sk-container-id-1 input.sk-hidden--visually {border: 0;clip: rect(1px 1px 1px 1px);clip: rect(1px, 1px, 1px, 1px);height: 1px;margin: -1px;overflow: hidden;padding: 0;position: absolute;width: 1px;}#sk-container-id-1 div.sk-estimator {font-family: monospace;background-color: #f0f8ff;border: 1px dotted black;border-radius: 0.25em;box-sizing: border-box;margin-bottom: 0.5em;}#sk-container-id-1 div.sk-estimator:hover {background-color: #d4ebff;}#sk-container-id-1 div.sk-parallel-item::after {content: \"\";width: 100%;border-bottom: 1px solid gray;flex-grow: 1;}#sk-container-id-1 div.sk-label:hover label.sk-toggleable__label {background-color: #d4ebff;}#sk-container-id-1 div.sk-serial::before {content: \"\";position: absolute;border-left: 1px solid gray;box-sizing: border-box;top: 0;bottom: 0;left: 50%;z-index: 0;}#sk-container-id-1 div.sk-serial {display: flex;flex-direction: column;align-items: center;background-color: white;padding-right: 0.2em;padding-left: 0.2em;position: relative;}#sk-container-id-1 div.sk-item {position: relative;z-index: 1;}#sk-container-id-1 div.sk-parallel {display: flex;align-items: stretch;justify-content: center;background-color: white;position: relative;}#sk-container-id-1 div.sk-item::before, #sk-container-id-1 div.sk-parallel-item::before {content: \"\";position: absolute;border-left: 1px solid gray;box-sizing: border-box;top: 0;bottom: 0;left: 50%;z-index: -1;}#sk-container-id-1 div.sk-parallel-item {display: flex;flex-direction: column;z-index: 1;position: relative;background-color: white;}#sk-container-id-1 div.sk-parallel-item:first-child::after {align-self: flex-end;width: 50%;}#sk-container-id-1 div.sk-parallel-item:last-child::after {align-self: flex-start;width: 50%;}#sk-container-id-1 div.sk-parallel-item:only-child::after {width: 0;}#sk-container-id-1 div.sk-dashed-wrapped {border: 1px dashed gray;margin: 0 0.4em 0.5em 0.4em;box-sizing: border-box;padding-bottom: 0.4em;background-color: white;}#sk-container-id-1 div.sk-label label {font-family: monospace;font-weight: bold;display: inline-block;line-height: 1.2em;}#sk-container-id-1 div.sk-label-container {text-align: center;}#sk-container-id-1 div.sk-container {/* jupyter's `normalize.less` sets `[hidden] { display: none; }` but bootstrap.min.css set `[hidden] { display: none !important; }` so we also need the `!important` here to be able to override the default hidden behavior on the sphinx rendered scikit-learn.org. See: https://github.com/scikit-learn/scikit-learn/issues/21755 */display: inline-block !important;position: relative;}#sk-container-id-1 div.sk-text-repr-fallback {display: none;}</style><div id=\"sk-container-id-1\" class=\"sk-top-container\"><div class=\"sk-text-repr-fallback\"><pre>GaussianMixture(n_components=4)</pre><b>In a Jupyter environment, please rerun this cell to show the HTML representation or trust the notebook. <br />On GitHub, the HTML representation is unable to render, please try loading this page with nbviewer.org.</b></div><div class=\"sk-container\" hidden><div class=\"sk-item\"><div class=\"sk-estimator sk-toggleable\"><input class=\"sk-toggleable__control sk-hidden--visually\" id=\"sk-estimator-id-1\" type=\"checkbox\" checked><label for=\"sk-estimator-id-1\" class=\"sk-toggleable__label sk-toggleable__label-arrow\">GaussianMixture</label><div class=\"sk-toggleable__content\"><pre>GaussianMixture(n_components=4)</pre></div></div></div></div></div>"
     },
     "execution_count": 22,
     "metadata": {},
     "output_type": "execute_result"
    }
   ],
   "source": [
    "GMM.fit(users_items_matrix)"
   ]
  },
  {
   "cell_type": "code",
   "execution_count": 23,
   "metadata": {
    "ExecuteTime": {
     "end_time": "2023-12-22T10:20:22.997163300Z",
     "start_time": "2023-12-22T10:20:22.794872600Z"
    }
   },
   "outputs": [],
   "source": [
    "users_items_matrix['label'] = GMM.predict(users_items_matrix)"
   ]
  },
  {
   "cell_type": "code",
   "execution_count": 24,
   "metadata": {
    "ExecuteTime": {
     "end_time": "2023-12-22T10:20:23.045669700Z",
     "start_time": "2023-12-22T10:20:22.998163600Z"
    }
   },
   "outputs": [
    {
     "data": {
      "text/plain": "       0    1    2    3    4    5    6    7    8    9  ...  1673  1674  1675  \\\n0    5.0  3.0  4.0  3.0  3.0  5.0  4.0  1.0  5.0  3.0  ...   0.0   0.0   0.0   \n1    4.0  0.0  0.0  0.0  0.0  0.0  0.0  0.0  0.0  2.0  ...   0.0   0.0   0.0   \n2    0.0  0.0  0.0  0.0  0.0  0.0  0.0  0.0  0.0  0.0  ...   0.0   0.0   0.0   \n3    0.0  0.0  0.0  0.0  0.0  0.0  0.0  0.0  0.0  0.0  ...   0.0   0.0   0.0   \n4    4.0  3.0  0.0  0.0  0.0  0.0  0.0  0.0  0.0  0.0  ...   0.0   0.0   0.0   \n..   ...  ...  ...  ...  ...  ...  ...  ...  ...  ...  ...   ...   ...   ...   \n938  0.0  0.0  0.0  0.0  0.0  0.0  0.0  0.0  5.0  0.0  ...   0.0   0.0   0.0   \n939  0.0  0.0  0.0  2.0  0.0  0.0  4.0  5.0  3.0  0.0  ...   0.0   0.0   0.0   \n940  5.0  0.0  0.0  0.0  0.0  0.0  4.0  0.0  0.0  0.0  ...   0.0   0.0   0.0   \n941  0.0  0.0  0.0  0.0  0.0  0.0  0.0  0.0  0.0  0.0  ...   0.0   0.0   0.0   \n942  0.0  5.0  0.0  0.0  0.0  0.0  0.0  0.0  3.0  0.0  ...   0.0   0.0   0.0   \n\n     1676  1677  1678  1679  1680  1681  label  \n0     0.0   0.0   0.0   0.0   0.0   0.0      1  \n1     0.0   0.0   0.0   0.0   0.0   0.0      2  \n2     0.0   0.0   0.0   0.0   0.0   0.0      2  \n3     0.0   0.0   0.0   0.0   0.0   0.0      2  \n4     0.0   0.0   0.0   0.0   0.0   0.0      0  \n..    ...   ...   ...   ...   ...   ...    ...  \n938   0.0   0.0   0.0   0.0   0.0   0.0      2  \n939   0.0   0.0   0.0   0.0   0.0   0.0      0  \n940   0.0   0.0   0.0   0.0   0.0   0.0      2  \n941   0.0   0.0   0.0   0.0   0.0   0.0      0  \n942   0.0   0.0   0.0   0.0   0.0   0.0      1  \n\n[943 rows x 1683 columns]",
      "text/html": "<div>\n<style scoped>\n    .dataframe tbody tr th:only-of-type {\n        vertical-align: middle;\n    }\n\n    .dataframe tbody tr th {\n        vertical-align: top;\n    }\n\n    .dataframe thead th {\n        text-align: right;\n    }\n</style>\n<table border=\"1\" class=\"dataframe\">\n  <thead>\n    <tr style=\"text-align: right;\">\n      <th></th>\n      <th>0</th>\n      <th>1</th>\n      <th>2</th>\n      <th>3</th>\n      <th>4</th>\n      <th>5</th>\n      <th>6</th>\n      <th>7</th>\n      <th>8</th>\n      <th>9</th>\n      <th>...</th>\n      <th>1673</th>\n      <th>1674</th>\n      <th>1675</th>\n      <th>1676</th>\n      <th>1677</th>\n      <th>1678</th>\n      <th>1679</th>\n      <th>1680</th>\n      <th>1681</th>\n      <th>label</th>\n    </tr>\n  </thead>\n  <tbody>\n    <tr>\n      <th>0</th>\n      <td>5.0</td>\n      <td>3.0</td>\n      <td>4.0</td>\n      <td>3.0</td>\n      <td>3.0</td>\n      <td>5.0</td>\n      <td>4.0</td>\n      <td>1.0</td>\n      <td>5.0</td>\n      <td>3.0</td>\n      <td>...</td>\n      <td>0.0</td>\n      <td>0.0</td>\n      <td>0.0</td>\n      <td>0.0</td>\n      <td>0.0</td>\n      <td>0.0</td>\n      <td>0.0</td>\n      <td>0.0</td>\n      <td>0.0</td>\n      <td>1</td>\n    </tr>\n    <tr>\n      <th>1</th>\n      <td>4.0</td>\n      <td>0.0</td>\n      <td>0.0</td>\n      <td>0.0</td>\n      <td>0.0</td>\n      <td>0.0</td>\n      <td>0.0</td>\n      <td>0.0</td>\n      <td>0.0</td>\n      <td>2.0</td>\n      <td>...</td>\n      <td>0.0</td>\n      <td>0.0</td>\n      <td>0.0</td>\n      <td>0.0</td>\n      <td>0.0</td>\n      <td>0.0</td>\n      <td>0.0</td>\n      <td>0.0</td>\n      <td>0.0</td>\n      <td>2</td>\n    </tr>\n    <tr>\n      <th>2</th>\n      <td>0.0</td>\n      <td>0.0</td>\n      <td>0.0</td>\n      <td>0.0</td>\n      <td>0.0</td>\n      <td>0.0</td>\n      <td>0.0</td>\n      <td>0.0</td>\n      <td>0.0</td>\n      <td>0.0</td>\n      <td>...</td>\n      <td>0.0</td>\n      <td>0.0</td>\n      <td>0.0</td>\n      <td>0.0</td>\n      <td>0.0</td>\n      <td>0.0</td>\n      <td>0.0</td>\n      <td>0.0</td>\n      <td>0.0</td>\n      <td>2</td>\n    </tr>\n    <tr>\n      <th>3</th>\n      <td>0.0</td>\n      <td>0.0</td>\n      <td>0.0</td>\n      <td>0.0</td>\n      <td>0.0</td>\n      <td>0.0</td>\n      <td>0.0</td>\n      <td>0.0</td>\n      <td>0.0</td>\n      <td>0.0</td>\n      <td>...</td>\n      <td>0.0</td>\n      <td>0.0</td>\n      <td>0.0</td>\n      <td>0.0</td>\n      <td>0.0</td>\n      <td>0.0</td>\n      <td>0.0</td>\n      <td>0.0</td>\n      <td>0.0</td>\n      <td>2</td>\n    </tr>\n    <tr>\n      <th>4</th>\n      <td>4.0</td>\n      <td>3.0</td>\n      <td>0.0</td>\n      <td>0.0</td>\n      <td>0.0</td>\n      <td>0.0</td>\n      <td>0.0</td>\n      <td>0.0</td>\n      <td>0.0</td>\n      <td>0.0</td>\n      <td>...</td>\n      <td>0.0</td>\n      <td>0.0</td>\n      <td>0.0</td>\n      <td>0.0</td>\n      <td>0.0</td>\n      <td>0.0</td>\n      <td>0.0</td>\n      <td>0.0</td>\n      <td>0.0</td>\n      <td>0</td>\n    </tr>\n    <tr>\n      <th>...</th>\n      <td>...</td>\n      <td>...</td>\n      <td>...</td>\n      <td>...</td>\n      <td>...</td>\n      <td>...</td>\n      <td>...</td>\n      <td>...</td>\n      <td>...</td>\n      <td>...</td>\n      <td>...</td>\n      <td>...</td>\n      <td>...</td>\n      <td>...</td>\n      <td>...</td>\n      <td>...</td>\n      <td>...</td>\n      <td>...</td>\n      <td>...</td>\n      <td>...</td>\n      <td>...</td>\n    </tr>\n    <tr>\n      <th>938</th>\n      <td>0.0</td>\n      <td>0.0</td>\n      <td>0.0</td>\n      <td>0.0</td>\n      <td>0.0</td>\n      <td>0.0</td>\n      <td>0.0</td>\n      <td>0.0</td>\n      <td>5.0</td>\n      <td>0.0</td>\n      <td>...</td>\n      <td>0.0</td>\n      <td>0.0</td>\n      <td>0.0</td>\n      <td>0.0</td>\n      <td>0.0</td>\n      <td>0.0</td>\n      <td>0.0</td>\n      <td>0.0</td>\n      <td>0.0</td>\n      <td>2</td>\n    </tr>\n    <tr>\n      <th>939</th>\n      <td>0.0</td>\n      <td>0.0</td>\n      <td>0.0</td>\n      <td>2.0</td>\n      <td>0.0</td>\n      <td>0.0</td>\n      <td>4.0</td>\n      <td>5.0</td>\n      <td>3.0</td>\n      <td>0.0</td>\n      <td>...</td>\n      <td>0.0</td>\n      <td>0.0</td>\n      <td>0.0</td>\n      <td>0.0</td>\n      <td>0.0</td>\n      <td>0.0</td>\n      <td>0.0</td>\n      <td>0.0</td>\n      <td>0.0</td>\n      <td>0</td>\n    </tr>\n    <tr>\n      <th>940</th>\n      <td>5.0</td>\n      <td>0.0</td>\n      <td>0.0</td>\n      <td>0.0</td>\n      <td>0.0</td>\n      <td>0.0</td>\n      <td>4.0</td>\n      <td>0.0</td>\n      <td>0.0</td>\n      <td>0.0</td>\n      <td>...</td>\n      <td>0.0</td>\n      <td>0.0</td>\n      <td>0.0</td>\n      <td>0.0</td>\n      <td>0.0</td>\n      <td>0.0</td>\n      <td>0.0</td>\n      <td>0.0</td>\n      <td>0.0</td>\n      <td>2</td>\n    </tr>\n    <tr>\n      <th>941</th>\n      <td>0.0</td>\n      <td>0.0</td>\n      <td>0.0</td>\n      <td>0.0</td>\n      <td>0.0</td>\n      <td>0.0</td>\n      <td>0.0</td>\n      <td>0.0</td>\n      <td>0.0</td>\n      <td>0.0</td>\n      <td>...</td>\n      <td>0.0</td>\n      <td>0.0</td>\n      <td>0.0</td>\n      <td>0.0</td>\n      <td>0.0</td>\n      <td>0.0</td>\n      <td>0.0</td>\n      <td>0.0</td>\n      <td>0.0</td>\n      <td>0</td>\n    </tr>\n    <tr>\n      <th>942</th>\n      <td>0.0</td>\n      <td>5.0</td>\n      <td>0.0</td>\n      <td>0.0</td>\n      <td>0.0</td>\n      <td>0.0</td>\n      <td>0.0</td>\n      <td>0.0</td>\n      <td>3.0</td>\n      <td>0.0</td>\n      <td>...</td>\n      <td>0.0</td>\n      <td>0.0</td>\n      <td>0.0</td>\n      <td>0.0</td>\n      <td>0.0</td>\n      <td>0.0</td>\n      <td>0.0</td>\n      <td>0.0</td>\n      <td>0.0</td>\n      <td>1</td>\n    </tr>\n  </tbody>\n</table>\n<p>943 rows × 1683 columns</p>\n</div>"
     },
     "execution_count": 24,
     "metadata": {},
     "output_type": "execute_result"
    }
   ],
   "source": [
    "users_items_matrix"
   ]
  },
  {
   "cell_type": "code",
   "execution_count": 25,
   "metadata": {
    "ExecuteTime": {
     "end_time": "2023-12-22T10:20:23.088668400Z",
     "start_time": "2023-12-22T10:20:23.027668400Z"
    }
   },
   "outputs": [],
   "source": [
    "def find_mutual(group):\n",
    "    index, content = group['label'].iloc[0], pd.DataFrame(group.drop('label', axis=1)).T\n",
    "    result = {}\n",
    "    for item in range(len(content)):\n",
    "        result[item] = content.loc[item][content.loc[item] != 0].index.to_list()\n",
    "    return pd.DataFrame([result])"
   ]
  },
  {
   "cell_type": "code",
   "execution_count": 26,
   "metadata": {
    "ExecuteTime": {
     "end_time": "2023-12-22T10:20:24.291947100Z",
     "start_time": "2023-12-22T10:20:23.043669Z"
    }
   },
   "outputs": [],
   "source": [
    "interaction_matrix = users_items_matrix.groupby('label').apply(find_mutual).droplevel(1).T"
   ]
  },
  {
   "cell_type": "code",
   "execution_count": 27,
   "metadata": {
    "ExecuteTime": {
     "end_time": "2023-12-22T10:20:24.307963Z",
     "start_time": "2023-12-22T10:20:24.289947300Z"
    }
   },
   "outputs": [
    {
     "data": {
      "text/plain": "label                                                  0  \\\n0      [4, 15, 22, 24, 37, 40, 43, 48, 56, 57, 64, 69...   \n1      [4, 21, 48, 71, 82, 101, 109, 196, 206, 212, 2...   \n2      [48, 81, 98, 159, 206, 215, 220, 245, 335, 341...   \n3      [11, 15, 21, 48, 76, 82, 98, 101, 114, 143, 15...   \n4      [27, 43, 71, 101, 117, 187, 206, 269, 343, 424...   \n...                                                  ...   \n1677                                                  []   \n1678                                                  []   \n1679                                                  []   \n1680                                                  []   \n1681                                                  []   \n\nlabel                                                  1  \\\n0      [0, 41, 42, 55, 61, 63, 91, 93, 94, 108, 129, ...   \n1      [0, 41, 63, 86, 91, 94, 129, 177, 199, 221, 25...   \n2      [0, 42, 61, 94, 129, 144, 243, 266, 267, 275, ...   \n3      [0, 42, 61, 63, 86, 91, 93, 108, 129, 221, 255...   \n4      [0, 42, 91, 108, 129, 144, 255, 266, 275, 279,...   \n...                                                  ...   \n1677                                                  []   \n1678                                                  []   \n1679                                                  []   \n1680                                               [895]   \n1681                                               [915]   \n\nlabel                                                  2  \\\n0      [1, 14, 16, 19, 20, 25, 44, 53, 62, 65, 66, 74...   \n1                                         [29, 192, 216]   \n2      [62, 80, 103, 156, 180, 431, 458, 462, 485, 53...   \n3                 [18, 83, 217, 218, 286, 475, 770, 859]   \n4      [20, 134, 217, 254, 366, 367, 371, 374, 387, 4...   \n...                                                  ...   \n1677                                               [862]   \n1678                                               [862]   \n1679                                               [862]   \n1680                                                  []   \n1681                                                  []   \n\nlabel                                                  3  \n0      [5, 9, 12, 17, 58, 150, 183, 188, 193, 200, 23...  \n1      [12, 200, 233, 270, 292, 304, 326, 378, 384, 3...  \n2      [58, 268, 292, 342, 405, 428, 449, 536, 560, 5...  \n3      [6, 9, 12, 17, 58, 150, 188, 193, 200, 233, 27...  \n4      [12, 233, 268, 292, 307, 338, 405, 436, 654, 6...  \n...                                                  ...  \n1677                                                  []  \n1678                                                  []  \n1679                                                  []  \n1680                                                  []  \n1681                                                  []  \n\n[1682 rows x 4 columns]",
      "text/html": "<div>\n<style scoped>\n    .dataframe tbody tr th:only-of-type {\n        vertical-align: middle;\n    }\n\n    .dataframe tbody tr th {\n        vertical-align: top;\n    }\n\n    .dataframe thead th {\n        text-align: right;\n    }\n</style>\n<table border=\"1\" class=\"dataframe\">\n  <thead>\n    <tr style=\"text-align: right;\">\n      <th>label</th>\n      <th>0</th>\n      <th>1</th>\n      <th>2</th>\n      <th>3</th>\n    </tr>\n  </thead>\n  <tbody>\n    <tr>\n      <th>0</th>\n      <td>[4, 15, 22, 24, 37, 40, 43, 48, 56, 57, 64, 69...</td>\n      <td>[0, 41, 42, 55, 61, 63, 91, 93, 94, 108, 129, ...</td>\n      <td>[1, 14, 16, 19, 20, 25, 44, 53, 62, 65, 66, 74...</td>\n      <td>[5, 9, 12, 17, 58, 150, 183, 188, 193, 200, 23...</td>\n    </tr>\n    <tr>\n      <th>1</th>\n      <td>[4, 21, 48, 71, 82, 101, 109, 196, 206, 212, 2...</td>\n      <td>[0, 41, 63, 86, 91, 94, 129, 177, 199, 221, 25...</td>\n      <td>[29, 192, 216]</td>\n      <td>[12, 200, 233, 270, 292, 304, 326, 378, 384, 3...</td>\n    </tr>\n    <tr>\n      <th>2</th>\n      <td>[48, 81, 98, 159, 206, 215, 220, 245, 335, 341...</td>\n      <td>[0, 42, 61, 94, 129, 144, 243, 266, 267, 275, ...</td>\n      <td>[62, 80, 103, 156, 180, 431, 458, 462, 485, 53...</td>\n      <td>[58, 268, 292, 342, 405, 428, 449, 536, 560, 5...</td>\n    </tr>\n    <tr>\n      <th>3</th>\n      <td>[11, 15, 21, 48, 76, 82, 98, 101, 114, 143, 15...</td>\n      <td>[0, 42, 61, 63, 86, 91, 93, 108, 129, 221, 255...</td>\n      <td>[18, 83, 217, 218, 286, 475, 770, 859]</td>\n      <td>[6, 9, 12, 17, 58, 150, 188, 193, 200, 233, 27...</td>\n    </tr>\n    <tr>\n      <th>4</th>\n      <td>[27, 43, 71, 101, 117, 187, 206, 269, 343, 424...</td>\n      <td>[0, 42, 91, 108, 129, 144, 255, 266, 275, 279,...</td>\n      <td>[20, 134, 217, 254, 366, 367, 371, 374, 387, 4...</td>\n      <td>[12, 233, 268, 292, 307, 338, 405, 436, 654, 6...</td>\n    </tr>\n    <tr>\n      <th>...</th>\n      <td>...</td>\n      <td>...</td>\n      <td>...</td>\n      <td>...</td>\n    </tr>\n    <tr>\n      <th>1677</th>\n      <td>[]</td>\n      <td>[]</td>\n      <td>[862]</td>\n      <td>[]</td>\n    </tr>\n    <tr>\n      <th>1678</th>\n      <td>[]</td>\n      <td>[]</td>\n      <td>[862]</td>\n      <td>[]</td>\n    </tr>\n    <tr>\n      <th>1679</th>\n      <td>[]</td>\n      <td>[]</td>\n      <td>[862]</td>\n      <td>[]</td>\n    </tr>\n    <tr>\n      <th>1680</th>\n      <td>[]</td>\n      <td>[895]</td>\n      <td>[]</td>\n      <td>[]</td>\n    </tr>\n    <tr>\n      <th>1681</th>\n      <td>[]</td>\n      <td>[915]</td>\n      <td>[]</td>\n      <td>[]</td>\n    </tr>\n  </tbody>\n</table>\n<p>1682 rows × 4 columns</p>\n</div>"
     },
     "execution_count": 27,
     "metadata": {},
     "output_type": "execute_result"
    }
   ],
   "source": [
    "interaction_matrix"
   ]
  },
  {
   "cell_type": "code",
   "execution_count": 28,
   "metadata": {
    "ExecuteTime": {
     "end_time": "2023-12-22T10:20:24.337538700Z",
     "start_time": "2023-12-22T10:20:24.312949900Z"
    }
   },
   "outputs": [],
   "source": [
    "def triangle_similarity(list1, list2):\n",
    "    AB = len(set(list2) - set(list1))\n",
    "    OA, OB = len(list1), len(list2)\n",
    "    return 1 - (AB / (OA + OB))"
   ]
  },
  {
   "cell_type": "code",
   "execution_count": 29,
   "metadata": {
    "ExecuteTime": {
     "end_time": "2023-12-22T10:20:24.369616Z",
     "start_time": "2023-12-22T10:20:24.326539300Z"
    }
   },
   "outputs": [],
   "source": [
    "def jcrd_similarity(list1, list2):\n",
    "    intersection = len(list(set(list1).intersection(set(list2))))\n",
    "    union = len(set(list1)) + len(set(list2)) - intersection\n",
    "    return intersection / union"
   ]
  },
  {
   "cell_type": "code",
   "execution_count": 30,
   "metadata": {
    "ExecuteTime": {
     "end_time": "2023-12-22T10:20:24.426250600Z",
     "start_time": "2023-12-22T10:20:24.341539200Z"
    }
   },
   "outputs": [],
   "source": [
    "def CTJ(first_vector, second_vector):\n",
    "    first_vector = np.concatenate(first_vector).ravel()\n",
    "    second_vector = np.concatenate(second_vector).ravel()\n",
    "    \n",
    "    jaccard_similarity_ = jcrd_similarity(first_vector, second_vector)\n",
    "    triangle_similarity_ = triangle_similarity(first_vector, second_vector)\n",
    "    \n",
    "    return 0.5 * jaccard_similarity_ * (triangle_similarity_ + 1)"
   ]
  },
  {
   "cell_type": "code",
   "execution_count": 31,
   "metadata": {
    "ExecuteTime": {
     "end_time": "2023-12-22T10:20:24.443248200Z",
     "start_time": "2023-12-22T10:20:24.358540900Z"
    }
   },
   "outputs": [],
   "source": [
    "similarity_matrix = np.zeros((len(interaction_matrix), len(interaction_matrix)))"
   ]
  },
  {
   "cell_type": "code",
   "execution_count": 32,
   "metadata": {
    "ExecuteTime": {
     "end_time": "2023-12-22T10:20:24.443248200Z",
     "start_time": "2023-12-22T10:20:24.373541Z"
    }
   },
   "outputs": [],
   "source": [
    "interaction_matrix = interaction_matrix.values"
   ]
  },
  {
   "cell_type": "code",
   "execution_count": 33,
   "metadata": {
    "ExecuteTime": {
     "end_time": "2023-12-22T10:23:15.820186800Z",
     "start_time": "2023-12-22T10:20:24.394742900Z"
    }
   },
   "outputs": [
    {
     "name": "stderr",
     "output_type": "stream",
     "text": [
      "100%|██████████| 1681/1681 [00:53<00:00, 31.27it/s] \n",
      " 83%|████████▎ | 1398/1681 [00:53<00:01, 235.01it/s]"
     ]
    }
   ],
   "source": [
    "for i in tqdm(range(len(interaction_matrix) - 1)):\n",
    "    for j in range(i + 1, len(interaction_matrix)):\n",
    "        similarity_score = CTJ(interaction_matrix[i], interaction_matrix[j])\n",
    "        similarity_matrix[i, j] = similarity_matrix[j, i] = similarity_score"
   ]
  },
  {
   "cell_type": "code",
   "execution_count": 34,
   "metadata": {
    "ExecuteTime": {
     "end_time": "2023-12-22T10:23:15.820186800Z",
     "start_time": "2023-12-22T10:21:18.163352600Z"
    }
   },
   "outputs": [],
   "source": [
    "similarity_matrix = pd.DataFrame(similarity_matrix)"
   ]
  },
  {
   "cell_type": "code",
   "execution_count": 35,
   "metadata": {
    "ExecuteTime": {
     "end_time": "2023-12-22T10:23:15.820186800Z",
     "start_time": "2023-12-22T10:21:18.178892500Z"
    }
   },
   "outputs": [
    {
     "data": {
      "text/plain": "          0         1         2         3         4         5         6     \\\n0     0.000000  0.212091  0.166243  0.277808  0.115309  0.029794  0.466291   \n1     0.212091  0.000000  0.158782  0.297000  0.182348  0.037204  0.156690   \n2     0.166243  0.158782  0.000000  0.147412  0.110466  0.058961  0.119421   \n3     0.277808  0.297000  0.147412  0.000000  0.196617  0.038383  0.250086   \n4     0.115309  0.182348  0.110466  0.196617  0.000000  0.016234  0.107598   \n...        ...       ...       ...       ...       ...       ...       ...   \n1677  0.000000  0.000000  0.000000  0.000000  0.000000  0.000000  0.000000   \n1678  0.000000  0.000000  0.000000  0.000000  0.000000  0.000000  0.000000   \n1679  0.000000  0.000000  0.000000  0.000000  0.000000  0.000000  0.000000   \n1680  0.002212  0.007634  0.000000  0.004785  0.000000  0.000000  0.002551   \n1681  0.002212  0.007634  0.011111  0.004785  0.011628  0.000000  0.002551   \n\n          7         8         9     ...      1672  1673      1674      1675  \\\n0     0.283445  0.341610  0.123795  ...  0.002212   0.0  0.000000  0.000000   \n1     0.166994  0.105054  0.094192  ...  0.000000   0.0  0.000000  0.000000   \n2     0.099153  0.100287  0.095531  ...  0.000000   0.0  0.000000  0.000000   \n3     0.293735  0.210796  0.129394  ...  0.000000   0.0  0.004785  0.004785   \n4     0.103353  0.091108  0.031905  ...  0.000000   0.0  0.000000  0.000000   \n...        ...       ...       ...  ...       ...   ...       ...       ...   \n1677  0.000000  0.000000  0.000000  ...  0.000000   0.0  0.000000  0.000000   \n1678  0.000000  0.000000  0.000000  ...  0.000000   0.0  0.000000  0.000000   \n1679  0.000000  0.000000  0.000000  ...  0.000000   0.0  0.000000  0.000000   \n1680  0.004566  0.003344  0.000000  ...  0.000000   0.0  0.000000  0.000000   \n1681  0.000000  0.003344  0.000000  ...  0.000000   0.0  0.000000  0.000000   \n\n          1676  1677  1678  1679      1680      1681  \n0     0.002212   0.0   0.0   0.0  0.002212  0.002212  \n1     0.000000   0.0   0.0   0.0  0.007634  0.007634  \n2     0.011111   0.0   0.0   0.0  0.000000  0.011111  \n3     0.004785   0.0   0.0   0.0  0.004785  0.004785  \n4     0.000000   0.0   0.0   0.0  0.000000  0.011628  \n...        ...   ...   ...   ...       ...       ...  \n1677  0.000000   0.0   1.0   1.0  0.000000  0.000000  \n1678  0.000000   1.0   0.0   1.0  0.000000  0.000000  \n1679  0.000000   1.0   1.0   0.0  0.000000  0.000000  \n1680  0.000000   0.0   0.0   0.0  0.000000  0.000000  \n1681  0.000000   0.0   0.0   0.0  0.000000  0.000000  \n\n[1682 rows x 1682 columns]",
      "text/html": "<div>\n<style scoped>\n    .dataframe tbody tr th:only-of-type {\n        vertical-align: middle;\n    }\n\n    .dataframe tbody tr th {\n        vertical-align: top;\n    }\n\n    .dataframe thead th {\n        text-align: right;\n    }\n</style>\n<table border=\"1\" class=\"dataframe\">\n  <thead>\n    <tr style=\"text-align: right;\">\n      <th></th>\n      <th>0</th>\n      <th>1</th>\n      <th>2</th>\n      <th>3</th>\n      <th>4</th>\n      <th>5</th>\n      <th>6</th>\n      <th>7</th>\n      <th>8</th>\n      <th>9</th>\n      <th>...</th>\n      <th>1672</th>\n      <th>1673</th>\n      <th>1674</th>\n      <th>1675</th>\n      <th>1676</th>\n      <th>1677</th>\n      <th>1678</th>\n      <th>1679</th>\n      <th>1680</th>\n      <th>1681</th>\n    </tr>\n  </thead>\n  <tbody>\n    <tr>\n      <th>0</th>\n      <td>0.000000</td>\n      <td>0.212091</td>\n      <td>0.166243</td>\n      <td>0.277808</td>\n      <td>0.115309</td>\n      <td>0.029794</td>\n      <td>0.466291</td>\n      <td>0.283445</td>\n      <td>0.341610</td>\n      <td>0.123795</td>\n      <td>...</td>\n      <td>0.002212</td>\n      <td>0.0</td>\n      <td>0.000000</td>\n      <td>0.000000</td>\n      <td>0.002212</td>\n      <td>0.0</td>\n      <td>0.0</td>\n      <td>0.0</td>\n      <td>0.002212</td>\n      <td>0.002212</td>\n    </tr>\n    <tr>\n      <th>1</th>\n      <td>0.212091</td>\n      <td>0.000000</td>\n      <td>0.158782</td>\n      <td>0.297000</td>\n      <td>0.182348</td>\n      <td>0.037204</td>\n      <td>0.156690</td>\n      <td>0.166994</td>\n      <td>0.105054</td>\n      <td>0.094192</td>\n      <td>...</td>\n      <td>0.000000</td>\n      <td>0.0</td>\n      <td>0.000000</td>\n      <td>0.000000</td>\n      <td>0.000000</td>\n      <td>0.0</td>\n      <td>0.0</td>\n      <td>0.0</td>\n      <td>0.007634</td>\n      <td>0.007634</td>\n    </tr>\n    <tr>\n      <th>2</th>\n      <td>0.166243</td>\n      <td>0.158782</td>\n      <td>0.000000</td>\n      <td>0.147412</td>\n      <td>0.110466</td>\n      <td>0.058961</td>\n      <td>0.119421</td>\n      <td>0.099153</td>\n      <td>0.100287</td>\n      <td>0.095531</td>\n      <td>...</td>\n      <td>0.000000</td>\n      <td>0.0</td>\n      <td>0.000000</td>\n      <td>0.000000</td>\n      <td>0.011111</td>\n      <td>0.0</td>\n      <td>0.0</td>\n      <td>0.0</td>\n      <td>0.000000</td>\n      <td>0.011111</td>\n    </tr>\n    <tr>\n      <th>3</th>\n      <td>0.277808</td>\n      <td>0.297000</td>\n      <td>0.147412</td>\n      <td>0.000000</td>\n      <td>0.196617</td>\n      <td>0.038383</td>\n      <td>0.250086</td>\n      <td>0.293735</td>\n      <td>0.210796</td>\n      <td>0.129394</td>\n      <td>...</td>\n      <td>0.000000</td>\n      <td>0.0</td>\n      <td>0.004785</td>\n      <td>0.004785</td>\n      <td>0.004785</td>\n      <td>0.0</td>\n      <td>0.0</td>\n      <td>0.0</td>\n      <td>0.004785</td>\n      <td>0.004785</td>\n    </tr>\n    <tr>\n      <th>4</th>\n      <td>0.115309</td>\n      <td>0.182348</td>\n      <td>0.110466</td>\n      <td>0.196617</td>\n      <td>0.000000</td>\n      <td>0.016234</td>\n      <td>0.107598</td>\n      <td>0.103353</td>\n      <td>0.091108</td>\n      <td>0.031905</td>\n      <td>...</td>\n      <td>0.000000</td>\n      <td>0.0</td>\n      <td>0.000000</td>\n      <td>0.000000</td>\n      <td>0.000000</td>\n      <td>0.0</td>\n      <td>0.0</td>\n      <td>0.0</td>\n      <td>0.000000</td>\n      <td>0.011628</td>\n    </tr>\n    <tr>\n      <th>...</th>\n      <td>...</td>\n      <td>...</td>\n      <td>...</td>\n      <td>...</td>\n      <td>...</td>\n      <td>...</td>\n      <td>...</td>\n      <td>...</td>\n      <td>...</td>\n      <td>...</td>\n      <td>...</td>\n      <td>...</td>\n      <td>...</td>\n      <td>...</td>\n      <td>...</td>\n      <td>...</td>\n      <td>...</td>\n      <td>...</td>\n      <td>...</td>\n      <td>...</td>\n      <td>...</td>\n    </tr>\n    <tr>\n      <th>1677</th>\n      <td>0.000000</td>\n      <td>0.000000</td>\n      <td>0.000000</td>\n      <td>0.000000</td>\n      <td>0.000000</td>\n      <td>0.000000</td>\n      <td>0.000000</td>\n      <td>0.000000</td>\n      <td>0.000000</td>\n      <td>0.000000</td>\n      <td>...</td>\n      <td>0.000000</td>\n      <td>0.0</td>\n      <td>0.000000</td>\n      <td>0.000000</td>\n      <td>0.000000</td>\n      <td>0.0</td>\n      <td>1.0</td>\n      <td>1.0</td>\n      <td>0.000000</td>\n      <td>0.000000</td>\n    </tr>\n    <tr>\n      <th>1678</th>\n      <td>0.000000</td>\n      <td>0.000000</td>\n      <td>0.000000</td>\n      <td>0.000000</td>\n      <td>0.000000</td>\n      <td>0.000000</td>\n      <td>0.000000</td>\n      <td>0.000000</td>\n      <td>0.000000</td>\n      <td>0.000000</td>\n      <td>...</td>\n      <td>0.000000</td>\n      <td>0.0</td>\n      <td>0.000000</td>\n      <td>0.000000</td>\n      <td>0.000000</td>\n      <td>1.0</td>\n      <td>0.0</td>\n      <td>1.0</td>\n      <td>0.000000</td>\n      <td>0.000000</td>\n    </tr>\n    <tr>\n      <th>1679</th>\n      <td>0.000000</td>\n      <td>0.000000</td>\n      <td>0.000000</td>\n      <td>0.000000</td>\n      <td>0.000000</td>\n      <td>0.000000</td>\n      <td>0.000000</td>\n      <td>0.000000</td>\n      <td>0.000000</td>\n      <td>0.000000</td>\n      <td>...</td>\n      <td>0.000000</td>\n      <td>0.0</td>\n      <td>0.000000</td>\n      <td>0.000000</td>\n      <td>0.000000</td>\n      <td>1.0</td>\n      <td>1.0</td>\n      <td>0.0</td>\n      <td>0.000000</td>\n      <td>0.000000</td>\n    </tr>\n    <tr>\n      <th>1680</th>\n      <td>0.002212</td>\n      <td>0.007634</td>\n      <td>0.000000</td>\n      <td>0.004785</td>\n      <td>0.000000</td>\n      <td>0.000000</td>\n      <td>0.002551</td>\n      <td>0.004566</td>\n      <td>0.003344</td>\n      <td>0.000000</td>\n      <td>...</td>\n      <td>0.000000</td>\n      <td>0.0</td>\n      <td>0.000000</td>\n      <td>0.000000</td>\n      <td>0.000000</td>\n      <td>0.0</td>\n      <td>0.0</td>\n      <td>0.0</td>\n      <td>0.000000</td>\n      <td>0.000000</td>\n    </tr>\n    <tr>\n      <th>1681</th>\n      <td>0.002212</td>\n      <td>0.007634</td>\n      <td>0.011111</td>\n      <td>0.004785</td>\n      <td>0.011628</td>\n      <td>0.000000</td>\n      <td>0.002551</td>\n      <td>0.000000</td>\n      <td>0.003344</td>\n      <td>0.000000</td>\n      <td>...</td>\n      <td>0.000000</td>\n      <td>0.0</td>\n      <td>0.000000</td>\n      <td>0.000000</td>\n      <td>0.000000</td>\n      <td>0.0</td>\n      <td>0.0</td>\n      <td>0.0</td>\n      <td>0.000000</td>\n      <td>0.000000</td>\n    </tr>\n  </tbody>\n</table>\n<p>1682 rows × 1682 columns</p>\n</div>"
     },
     "execution_count": 35,
     "metadata": {},
     "output_type": "execute_result"
    }
   ],
   "source": [
    "similarity_matrix"
   ]
  },
  {
   "cell_type": "code",
   "execution_count": 36,
   "metadata": {
    "ExecuteTime": {
     "end_time": "2023-12-22T10:23:15.821189700Z",
     "start_time": "2023-12-22T10:21:18.210905900Z"
    }
   },
   "outputs": [],
   "source": [
    "def predict(i_th_user_index, j_th_item_index):\n",
    "    weights_sum = similarity_matrix[j_th_item_index].sum()\n",
    "    user_vector = users_items_matrix.drop('label', axis=1).loc[i_th_user_index]\n",
    "    similarity_vector = similarity_matrix[j_th_item_index]\n",
    "    return np.dot(user_vector, similarity_vector) / weights_sum"
   ]
  },
  {
   "cell_type": "code",
   "execution_count": 37,
   "metadata": {
    "ExecuteTime": {
     "end_time": "2023-12-22T10:23:15.821189700Z",
     "start_time": "2023-12-22T10:21:18.224934900Z"
    }
   },
   "outputs": [
    {
     "data": {
      "text/plain": "2"
     },
     "execution_count": 37,
     "metadata": {},
     "output_type": "execute_result"
    }
   ],
   "source": [
    "round(predict(6, 70))"
   ]
  }
 ],
 "metadata": {
  "kernelspec": {
   "display_name": "Python 3 (ipykernel)",
   "language": "python",
   "name": "python3"
  },
  "language_info": {
   "codemirror_mode": {
    "name": "ipython",
    "version": 3
   },
   "file_extension": ".py",
   "mimetype": "text/x-python",
   "name": "python",
   "nbconvert_exporter": "python",
   "pygments_lexer": "ipython3",
   "version": "3.9.12"
  }
 },
 "nbformat": 4,
 "nbformat_minor": 1
}
